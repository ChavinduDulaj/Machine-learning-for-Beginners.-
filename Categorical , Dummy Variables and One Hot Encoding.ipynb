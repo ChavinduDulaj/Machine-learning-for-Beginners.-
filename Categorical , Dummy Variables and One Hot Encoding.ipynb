{
 "cells": [
  {
   "cell_type": "markdown",
   "id": "66e0911c",
   "metadata": {},
   "source": [
    "# Thera are two types of variables "
   ]
  },
  {
   "cell_type": "markdown",
   "id": "403d6357",
   "metadata": {},
   "source": [
    "# 1) First one is Nominal variables"
   ]
  },
  {
   "cell_type": "markdown",
   "id": "22ec8d90",
   "metadata": {},
   "source": [
    " # Nominal variables are categorical variables without any inherent order or ranking, such as colors or types of fruit."
   ]
  },
  {
   "cell_type": "markdown",
   "id": "5a2d2946",
   "metadata": {},
   "source": [
    "# 2) Second one is Ordinal variables"
   ]
  },
  {
   "cell_type": "markdown",
   "id": "181e73d3",
   "metadata": {},
   "source": [
    "# Ordinal variables, on the other hand, have a meaningful order or ranking, but the intervals between them are not necessarily uniform, like education levels or customer satisfaction ratings."
   ]
  },
  {
   "cell_type": "code",
   "execution_count": null,
   "id": "9db44a7f",
   "metadata": {},
   "outputs": [],
   "source": [
    "\n"
   ]
  },
  {
   "cell_type": "code",
   "execution_count": null,
   "id": "fb5960c8",
   "metadata": {},
   "outputs": [],
   "source": []
  }
 ],
 "metadata": {
  "kernelspec": {
   "display_name": "Python 3 (ipykernel)",
   "language": "python",
   "name": "python3"
  },
  "language_info": {
   "codemirror_mode": {
    "name": "ipython",
    "version": 3
   },
   "file_extension": ".py",
   "mimetype": "text/x-python",
   "name": "python",
   "nbconvert_exporter": "python",
   "pygments_lexer": "ipython3",
   "version": "3.11.4"
  }
 },
 "nbformat": 4,
 "nbformat_minor": 5
}
